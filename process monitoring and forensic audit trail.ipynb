{
 "cells": [
  {
   "cell_type": "code",
   "execution_count": 1,
   "id": "2d3b28c7",
   "metadata": {},
   "outputs": [
    {
     "name": "stdout",
     "output_type": "stream",
     "text": [
      "Process logged\n",
      "Process logged\n",
      "Process logged\n"
     ]
    },
    {
     "ename": "KeyboardInterrupt",
     "evalue": "",
     "output_type": "error",
     "traceback": [
      "\u001b[1;31m---------------------------------------------------------------------------\u001b[0m",
      "\u001b[1;31mKeyboardInterrupt\u001b[0m                         Traceback (most recent call last)",
      "Input \u001b[1;32mIn [1]\u001b[0m, in \u001b[0;36m<cell line: 40>\u001b[1;34m()\u001b[0m\n\u001b[0;32m     37\u001b[0m         time\u001b[38;5;241m.\u001b[39msleep(interval)\n\u001b[0;32m     39\u001b[0m \u001b[38;5;66;03m# Test the function\u001b[39;00m\n\u001b[1;32m---> 40\u001b[0m \u001b[43mmonitor_processes\u001b[49m\u001b[43m(\u001b[49m\u001b[43m)\u001b[49m\n",
      "Input \u001b[1;32mIn [1]\u001b[0m, in \u001b[0;36mmonitor_processes\u001b[1;34m(interval)\u001b[0m\n\u001b[0;32m     34\u001b[0m \u001b[38;5;28mprint\u001b[39m(\u001b[38;5;124m\"\u001b[39m\u001b[38;5;124mProcess logged\u001b[39m\u001b[38;5;124m\"\u001b[39m)\n\u001b[0;32m     36\u001b[0m \u001b[38;5;66;03m# Wait for the specified interval before fetching the next set of records\u001b[39;00m\n\u001b[1;32m---> 37\u001b[0m \u001b[43mtime\u001b[49m\u001b[38;5;241;43m.\u001b[39;49m\u001b[43msleep\u001b[49m\u001b[43m(\u001b[49m\u001b[43minterval\u001b[49m\u001b[43m)\u001b[49m\n",
      "\u001b[1;31mKeyboardInterrupt\u001b[0m: "
     ]
    }
   ],
   "source": [
    "import psutil\n",
    "import logging\n",
    "import time\n",
    "\n",
    "# Configure logging\n",
    "logging.basicConfig(filename='process_log.txt', level=logging.INFO,\n",
    "                    format='%(asctime)s %(message)s', datefmt='%Y-%m-%d %H:%M:%S')\n",
    "\n",
    "# Continuous Process Monitoring and Logging\n",
    "def monitor_processes(interval=60):\n",
    "    while True:\n",
    "        processes = []\n",
    "        for proc in psutil.process_iter(['pid', 'name', 'memory_info', 'cpu_percent']):\n",
    "            process = {\n",
    "                'pid': proc.info['pid'],\n",
    "                'name': proc.info['name'],\n",
    "                'memory_usage': proc.info['memory_info'].rss,\n",
    "                'cpu_percent': proc.info['cpu_percent']\n",
    "            }\n",
    "            processes.append(process)\n",
    "\n",
    "        # Get the current date and time\n",
    "        current_datetime = time.strftime('%Y-%m-%d %H:%M:%S')\n",
    "\n",
    "        # Log the current date and time\n",
    "        logging.info(f\"\\nBatch Start Time: {current_datetime}\")\n",
    "\n",
    "        # Log the retrieved process records\n",
    "        logging.info(\"PID\\t\\tName\\t\\tMemory Usage\\t\\tCPU Percent\")\n",
    "        for process in processes:\n",
    "            logging.info(f\"{process['pid']}\\t\\t{process['name']}\\t\\t{process['memory_usage']}\\t\\t{process['cpu_percent']}%\")\n",
    "\n",
    "        # Print \"Process logged\"\n",
    "        print(\"Process logged\")\n",
    "\n",
    "        # Wait for the specified interval before fetching the next set of records\n",
    "        time.sleep(interval)\n",
    "\n",
    "# Test the function\n",
    "monitor_processes()\n"
   ]
  },
  {
   "cell_type": "code",
   "execution_count": null,
   "id": "a10b15f7",
   "metadata": {},
   "outputs": [],
   "source": []
  }
 ],
 "metadata": {
  "kernelspec": {
   "display_name": "Python 3 (ipykernel)",
   "language": "python",
   "name": "python3"
  },
  "language_info": {
   "codemirror_mode": {
    "name": "ipython",
    "version": 3
   },
   "file_extension": ".py",
   "mimetype": "text/x-python",
   "name": "python",
   "nbconvert_exporter": "python",
   "pygments_lexer": "ipython3",
   "version": "3.9.12"
  }
 },
 "nbformat": 4,
 "nbformat_minor": 5
}
